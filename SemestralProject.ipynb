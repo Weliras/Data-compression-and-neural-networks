{
 "cells": [
  {
   "cell_type": "markdown",
   "id": "042dee2e-2485-4634-888f-5e2e13f7d478",
   "metadata": {},
   "source": [
    "# Semestrální projekt, Využití Umělých Neuronových Sítí při kompresi dat\n",
    "- Student: Petr Ptáček, PTA0054\n",
    "- Vedoucí práce: Ing. Michal Vašinek Ph.D."
   ]
  },
  {
   "cell_type": "markdown",
   "id": "4a7c5a28-8fe6-4ec2-b5d5-8dcd77fb37fc",
   "metadata": {},
   "source": [
    "## Dataset Gutenberg\n",
    "- Data se skládají z 89 textových souborů, které dohromady tvoří knihu.\n",
    "- Těchto 89 souborů jsem si rozdělil v poměru 80 : 20 na trénovací a testovací sady."
   ]
  },
  {
   "cell_type": "markdown",
   "id": "3d14b80b-877b-4527-8a76-6892ada5d806",
   "metadata": {},
   "source": [
    "## Importy knihoven"
   ]
  },
  {
   "cell_type": "code",
   "execution_count": 1,
   "id": "9fa77108-ac14-47f8-ae96-72223f94d7d1",
   "metadata": {},
   "outputs": [],
   "source": [
    "import os\n",
    "os.environ['TF_CPP_MIN_LOG_LEVEL'] = '2' \n",
    "import time\n",
    "import string\n",
    "import random\n",
    "import sys\n",
    "\n",
    "# Pandas dataframes\n",
    "import pandas as pd\n",
    "# Numpy\n",
    "import numpy as np \n",
    "# Tensorflow 2.10.0\n",
    "import tensorflow as tf\n",
    "from tensorflow.keras.utils import Sequence\n",
    "\n",
    "\n",
    "# scikit-learn\n",
    "import sklearn\n",
    "from sklearn.model_selection import train_test_split\n",
    "\n",
    "# Graphing\n",
    "import matplotlib\n",
    "from matplotlib import pyplot as plt\n",
    "\n",
    "# Packages for manipulation with images\n",
    "from PIL import Image\n",
    "\n",
    "#\n",
    "import functools"
   ]
  },
  {
   "cell_type": "code",
   "execution_count": 2,
   "id": "446a19b3-4e9b-4e78-abce-a970b959ab66",
   "metadata": {},
   "outputs": [
    {
     "data": {
      "text/plain": [
       "[PhysicalDevice(name='/physical_device:GPU:0', device_type='GPU')]"
      ]
     },
     "execution_count": 2,
     "metadata": {},
     "output_type": "execute_result"
    }
   ],
   "source": [
    "# check if gpu is ready to use\n",
    "tf.config.list_physical_devices('GPU')"
   ]
  },
  {
   "cell_type": "code",
   "execution_count": 3,
   "id": "2bad2860-7bef-4180-babd-0e63e7333a2b",
   "metadata": {},
   "outputs": [
    {
     "data": {
      "text/plain": [
       "OrderedDict([('cpu_compiler', '/dt9/usr/bin/gcc'),\n",
       "             ('cuda_compute_capabilities',\n",
       "              ['sm_35', 'sm_50', 'sm_60', 'sm_70', 'sm_75', 'compute_80']),\n",
       "             ('cuda_version', '11.2'),\n",
       "             ('cudnn_version', '8'),\n",
       "             ('is_cuda_build', True),\n",
       "             ('is_rocm_build', False),\n",
       "             ('is_tensorrt_build', True)])"
      ]
     },
     "execution_count": 3,
     "metadata": {},
     "output_type": "execute_result"
    }
   ],
   "source": [
    "tf.sysconfig.get_build_info() "
   ]
  },
  {
   "cell_type": "code",
   "execution_count": 4,
   "id": "7d3d63d5-3cdf-4df4-92b6-6c0f5fb9d0ce",
   "metadata": {},
   "outputs": [],
   "source": [
    "# Set logging level only to ERROR\n",
    "tf.get_logger().setLevel(\"ERROR\")"
   ]
  },
  {
   "cell_type": "markdown",
   "id": "ee61255f-9ae8-4290-a51f-3ac22f515867",
   "metadata": {},
   "source": [
    "## Funkce"
   ]
  },
  {
   "cell_type": "code",
   "execution_count": 5,
   "id": "60e088d8-e5db-4612-a57a-b56825614ca4",
   "metadata": {},
   "outputs": [
    {
     "data": {
      "text/plain": [
       "'\\ndef load_alphabet(pattern: str) -> set():\\n     # list files in folder\\n    filenames = tf.data.Dataset.list_files(pattern,)\\n    alphabet = set()\\n    # For each file in folder\\n    for filename in filenames:\\n        # read whole file\\n        with open(filename.numpy(), mode=\"r\", encoding=\"ISO-8859-1\") as file:\\n            text = file.read()\\n             # insert the list to the set\\n            alphabet = alphabet.union(set(text))\\n            del text\\n\\n    return alphabet\\n'"
      ]
     },
     "execution_count": 5,
     "metadata": {},
     "output_type": "execute_result"
    }
   ],
   "source": [
    "# Load alphabet of all files which meet the pattern.\n",
    "\"\"\"\n",
    "def load_alphabet(pattern: str) -> set():\n",
    "     # list files in folder\n",
    "    filenames = tf.data.Dataset.list_files(pattern,)\n",
    "    alphabet = set()\n",
    "    # For each file in folder\n",
    "    for filename in filenames:\n",
    "        # read whole file\n",
    "        with open(filename.numpy(), mode=\"r\", encoding=\"ISO-8859-1\") as file:\n",
    "            text = file.read()\n",
    "             # insert the list to the set\n",
    "            alphabet = alphabet.union(set(text))\n",
    "            del text\n",
    "\n",
    "    return alphabet\n",
    "\"\"\""
   ]
  },
  {
   "cell_type": "code",
   "execution_count": 5,
   "id": "6ac998a2-ca47-41b2-9f21-001f91fbc1af",
   "metadata": {
    "tags": []
   },
   "outputs": [],
   "source": [
    "def load_data_binary(pattern: str, shuffle: bool = False, seed:int = None, lengthOfSubstring: int = 3, portion: float = 0.5) -> ([],[]):\n",
    "    train_x = []\n",
    "    train_y = []\n",
    "    \n",
    "    # Get list of filenames from pattern\n",
    "    filenames = tf.data.Dataset.list_files(pattern, shuffle=shuffle, seed=seed)\n",
    "    filenames = [i.numpy() for i in filenames]\n",
    "    filenames = random.sample(filenames, int(len(filenames) * portion))\n",
    "    #print(filenames)\n",
    "    # Set initial file_index and position in file.\n",
    "    position_in_file = 0\n",
    "    file_index = 0\n",
    "    \n",
    "    print(f'Loading gutenberg dataset [{round( (file_index) / len(filenames) * 100, 1)} %]\\r', end=\"\")\n",
    "    # File Loop\n",
    "    while file_index < len(filenames):\n",
    "        # Open File\n",
    "        with open(filenames[file_index], mode=\"rb\") as file:\n",
    "            file.seek(position_in_file)\n",
    "            byte_x = [file.read(1) for i in range(0, lengthOfSubstring)] #file.read(lengthOfSubstring)\n",
    "            byte_y = [file.read(1)]\n",
    "            # Main read loop\n",
    "            while True:\n",
    "                # If end of file\n",
    "                if b'' in byte_x or b'' in byte_y:\n",
    "                    file_index += 1\n",
    "                    position_in_file = 0\n",
    "                    break\n",
    "                else:\n",
    "                    train_x.append(byte_x)\n",
    "                    train_y.append(byte_y)\n",
    "                    # Read like this: \"Hello world!\" -> (\"Hel\",\"l\"), (\"ell\",\"o\"), (\"llo\",\" \"), ...\n",
    "                    position_in_file += 1\n",
    "                    file.seek(position_in_file)\n",
    "                    byte_x = [file.read(1) for i in range(0, lengthOfSubstring)] #file.read(lengthOfSubstring)\n",
    "                    byte_y = [file.read(1)]\n",
    "        print(f'Loading gutenberg dataset [{round( (file_index) / len(filenames) * 100, 1)} %]\\r', end=\"\")\n",
    "                    \n",
    "    return train_x, train_y\n",
    "\n"
   ]
  },
  {
   "cell_type": "code",
   "execution_count": 7,
   "id": "57c71a86-3de9-4763-9fb6-9bd9e50ace7a",
   "metadata": {},
   "outputs": [
    {
     "data": {
      "text/plain": [
       "'\\ndef load_data(pattern: str, shuffle: bool = False, seed:int = None, lengthOfSubstring: int = 3, removeDuplicates:bool = False) -> ([],[]):\\n    # list files in folder\\n    filenames = tf.data.Dataset.list_files(pattern, shuffle=shuffle, seed=seed)\\n    data = []\\n    # For each file in folder\\n    for filename in filenames:\\n        # read whole file\\n        with open(filename.numpy(), mode=\"r\", encoding=\"ISO-8859-1\") as file:\\n            #print(filename.numpy())\\n            text = file.read()\\n\\n            for i in range(0, len(text)-lengthOfSubstring):\\n                #index = np.random.randint(low=0, high=len(text))\\n                index = i\\n                x = text[index:index + lengthOfSubstring]\\n                y = text[index + lengthOfSubstring]\\n                \\n                data.append((x, y))\\n            del text\\n        # Remove duplicates\\n        if removeDuplicates:\\n            data = list(dict.fromkeys(data))\\n    \\n    data_x = [x[0] for x in data]\\n    data_y = [x[1] for x in data]\\n    del data\\n    return np.array(data_x), np.array(data_y)\\n'"
      ]
     },
     "execution_count": 7,
     "metadata": {},
     "output_type": "execute_result"
    }
   ],
   "source": [
    "# Deprecated\n",
    "# Load data from files into train_x and train_y np arrays in format \"tex\" -> \"t\", \"ext\" -> \"u\", \"xtu\" -> \"r\", \"tur\" -> \"e\", ... \n",
    "\"\"\"\n",
    "def load_data(pattern: str, shuffle: bool = False, seed:int = None, lengthOfSubstring: int = 3, removeDuplicates:bool = False) -> ([],[]):\n",
    "    # list files in folder\n",
    "    filenames = tf.data.Dataset.list_files(pattern, shuffle=shuffle, seed=seed)\n",
    "    data = []\n",
    "    # For each file in folder\n",
    "    for filename in filenames:\n",
    "        # read whole file\n",
    "        with open(filename.numpy(), mode=\"r\", encoding=\"ISO-8859-1\") as file:\n",
    "            #print(filename.numpy())\n",
    "            text = file.read()\n",
    "\n",
    "            for i in range(0, len(text)-lengthOfSubstring):\n",
    "                #index = np.random.randint(low=0, high=len(text))\n",
    "                index = i\n",
    "                x = text[index:index + lengthOfSubstring]\n",
    "                y = text[index + lengthOfSubstring]\n",
    "                \n",
    "                data.append((x, y))\n",
    "            del text\n",
    "        # Remove duplicates\n",
    "        if removeDuplicates:\n",
    "            data = list(dict.fromkeys(data))\n",
    "    \n",
    "    data_x = [x[0] for x in data]\n",
    "    data_y = [x[1] for x in data]\n",
    "    del data\n",
    "    return np.array(data_x), np.array(data_y)\n",
    "\"\"\""
   ]
  },
  {
   "cell_type": "code",
   "execution_count": 8,
   "id": "e6feddc0-ca6b-41b9-a412-eae984326f01",
   "metadata": {},
   "outputs": [
    {
     "data": {
      "text/plain": [
       "'\\ndef string_vectorizer(strng: str, alphabet: set() =string.ascii_lowercase) -> [[int]]:\\n    vector = [[0 if char != letter else 1 for char in alphabet] for letter in strng]\\n    return vector\\n'"
      ]
     },
     "execution_count": 8,
     "metadata": {},
     "output_type": "execute_result"
    }
   ],
   "source": [
    "# String vectorizer function which hot encode each character into vector of 0/1 of size of alphabete\n",
    "\"\"\"\n",
    "def string_vectorizer(strng: str, alphabet: set() =string.ascii_lowercase) -> [[int]]:\n",
    "    vector = [[0 if char != letter else 1 for char in alphabet] for letter in strng]\n",
    "    return vector\n",
    "\"\"\""
   ]
  },
  {
   "cell_type": "code",
   "execution_count": 6,
   "id": "dacb7dc6-7abc-4b97-8f79-730afc334429",
   "metadata": {},
   "outputs": [],
   "source": [
    "def get_alphabet(data_x, data_y):\n",
    "    alp = set()\n",
    "    for y in data_y:\n",
    "        for _y in y:\n",
    "            alp.add(_y)\n",
    "    for x in data_x:\n",
    "        for _x in x:\n",
    "            alp.add(_x)\n",
    "    return alp"
   ]
  },
  {
   "cell_type": "code",
   "execution_count": 66,
   "id": "031fe1b8-7178-4ac6-9138-101fffc95017",
   "metadata": {},
   "outputs": [],
   "source": [
    "def show_history(history):\n",
    "    plt.figure()\n",
    "    for key in history.history.keys():\n",
    "        plt.plot(history.epoch, history.history[key], label=key)\n",
    "    plt.legend()\n",
    "    plt.tight_layout()"
   ]
  },
  {
   "cell_type": "markdown",
   "id": "9bb7d0e1-be6e-4a09-9a69-34255228831e",
   "metadata": {},
   "source": [
    "## Třídy"
   ]
  },
  {
   "cell_type": "code",
   "execution_count": 51,
   "id": "bd3475ca-5e86-44e4-b9b4-26d6a1127da3",
   "metadata": {},
   "outputs": [],
   "source": [
    "class DataGenerator(Sequence):\n",
    "    def __init__(self, x_set, y_set, batch_size):\n",
    "        self.x, self.y = x_set, y_set\n",
    "        self.batch_size = batch_size\n",
    "\n",
    "    def __len__(self):\n",
    "        return int(np.ceil(len(self.x) / float(self.batch_size)))\n",
    "\n",
    "    def __getitem__(self, idx):\n",
    "        batch_x = self.x[idx * self.batch_size:(idx + 1) * self.batch_size]\n",
    "        batch_y = self.y[idx * self.batch_size:(idx + 1) * self.batch_size]\n",
    "        \n",
    "        # From bytes to Int in range <0, 255>\n",
    "        batch_x = np.array([[int.from_bytes(x, \"big\") for x in batch_x[i]] for i in range(0, len(batch_x))])\n",
    "        batch_y = np.array([[int.from_bytes(y, \"big\") for y in batch_y[i]] for i in range(0, len(batch_y))])\n",
    "        \n",
    "        # From integers to vectors of size 256, one hot encoding\n",
    "        batch_x = np.array([tf.keras.utils.to_categorical(x, num_classes=256) for x in batch_x])\n",
    "        batch_y = np.array([tf.keras.utils.to_categorical(y, num_classes=256) for y in batch_y])\n",
    "        \n",
    "        # Return sizes are (batch_size, 3, 256), (batch_size, 1, 256)\n",
    "        return batch_x, batch_y"
   ]
  },
  {
   "cell_type": "markdown",
   "id": "726c1a23-7786-4161-a994-38b0306cbd48",
   "metadata": {
    "tags": []
   },
   "source": [
    "## Načtení a zpracování dat"
   ]
  },
  {
   "cell_type": "code",
   "execution_count": 11,
   "id": "8510d6d0-3ec8-470c-b737-47e2da73a9a7",
   "metadata": {},
   "outputs": [],
   "source": [
    "# load alphabet of gutenberg dataset\n",
    "#start_time = time.time()\n",
    "#alphabet = load_alphabet(\"./data/gutenberg/train/*.txt\",)\n",
    "#alphabet = alphabet.union(load_alphabet(\"./data/gutenberg/test/*.txt\",))\n",
    "#print(\"--- %s seconds ---\" % (time.time() - start_time))"
   ]
  },
  {
   "cell_type": "code",
   "execution_count": 12,
   "id": "172097cb-05a5-4223-824b-e9b45188012c",
   "metadata": {},
   "outputs": [],
   "source": [
    "# Size of alphabet\n",
    "#print(f\"Size of alphabet of gutenberg dataset: {len(alphabet)}\")"
   ]
  },
  {
   "cell_type": "code",
   "execution_count": 13,
   "id": "0ac5408b-636a-45e2-bd96-2aa51f12d5b6",
   "metadata": {
    "tags": []
   },
   "outputs": [],
   "source": [
    "# Load train_x and train_y\n",
    "#start_time = time.time()\n",
    "#train_x, train_y = load_data(\"./data/gutenberg/train/*.txt\", seed=42, removeDuplicates=True)\n",
    "#print(\"--- %s seconds ---\" % (time.time() - start_time))"
   ]
  },
  {
   "cell_type": "code",
   "execution_count": 19,
   "id": "461a4996-5b91-499c-9fc0-5c4f97462ac2",
   "metadata": {},
   "outputs": [],
   "source": [
    "del train_x\n",
    "del train_y\n",
    "del test_x\n",
    "del test_y\n",
    "del val_x\n",
    "del val_y"
   ]
  },
  {
   "cell_type": "code",
   "execution_count": 20,
   "id": "36f54779-99b4-488d-868d-8de9e2a31deb",
   "metadata": {},
   "outputs": [
    {
     "name": "stdout",
     "output_type": "stream",
     "text": [
      "Loading gutenberg dataset [100.0 %]\n",
      "Size of test dataset: 3351254 [13405272 B]\n"
     ]
    }
   ],
   "source": [
    "# Load test_x and test_y in bytes\n",
    "test_x, test_y = load_data_binary(\"./data/gutenberg/test/*-0.txt\", seed=42, lengthOfSubstring=3, portion=0.3)\n",
    "test_x = np.array(test_x)\n",
    "test_y = np.array(test_y)\n",
    "print(f\"\\nSize of test dataset: {len(test_y)} [{sys.getsizeof(test_x) + sys.getsizeof(test_y)} B]\")"
   ]
  },
  {
   "cell_type": "code",
   "execution_count": 21,
   "id": "06bbf387-506e-4eea-ab82-d0df9d6b5a92",
   "metadata": {
    "tags": []
   },
   "outputs": [
    {
     "name": "stdout",
     "output_type": "stream",
     "text": [
      "Loading gutenberg dataset [100.0 %]\n",
      "Size of train dataset: 22166977 [88668164 B]\n"
     ]
    }
   ],
   "source": [
    "# Load train_x and train_y in bytes\n",
    "train_x, train_y = load_data_binary(\"./data/gutenberg/train/*-0.txt\", seed=42, lengthOfSubstring=3, portion=0.5)\n",
    "train_x = np.array(train_x)\n",
    "train_y = np.array(train_y)\n",
    "print(f\"\\nSize of train dataset: {len(train_y)} [{sys.getsizeof(train_x) + sys.getsizeof(train_y)} B]\")"
   ]
  },
  {
   "cell_type": "code",
   "execution_count": 22,
   "id": "45cf5509-7776-45e1-a697-1c0a58767ce6",
   "metadata": {},
   "outputs": [],
   "source": [
    "# Split train set into - train and validation set\n",
    "train_x, val_x, train_y, val_y = train_test_split(train_x, train_y, test_size=0.2, random_state=42)"
   ]
  },
  {
   "cell_type": "code",
   "execution_count": 23,
   "id": "d311676e-5508-40a5-8425-0789760d9ce2",
   "metadata": {},
   "outputs": [
    {
     "name": "stdout",
     "output_type": "stream",
     "text": [
      "Train data: 69.49 %\n",
      "Validation data: 17.37 %\n",
      "Test data: 13.13 %\n"
     ]
    }
   ],
   "source": [
    "print(f\"Train data: {round(len(train_y) / (len(test_y) + len(train_y) + len(val_y)) * 100, 2) } %\")\n",
    "print(f\"Validation data: {round(len(val_y) / (len(test_y) + len(train_y) + len(val_y)) * 100, 2) } %\")\n",
    "print(f\"Test data: {round(len(test_y) / (len(test_y) + len(train_y) + len(val_y)) * 100, 2) } %\")"
   ]
  },
  {
   "cell_type": "code",
   "execution_count": 24,
   "id": "4557ef4c-cb4c-4d9f-8814-a38e3ca41589",
   "metadata": {},
   "outputs": [],
   "source": [
    "alphabet_train = get_alphabet(train_x, train_y)"
   ]
  },
  {
   "cell_type": "code",
   "execution_count": 25,
   "id": "0e1f7867-f290-448e-9a25-9bd5d362c8f7",
   "metadata": {},
   "outputs": [],
   "source": [
    "alphabet_test = get_alphabet(test_x, test_y)"
   ]
  },
  {
   "cell_type": "code",
   "execution_count": 26,
   "id": "23365ef7-dacd-4b99-83f1-35530022fcbd",
   "metadata": {},
   "outputs": [
    {
     "data": {
      "text/plain": [
       "(161, 115)"
      ]
     },
     "execution_count": 26,
     "metadata": {},
     "output_type": "execute_result"
    }
   ],
   "source": [
    "len(alphabet_train), len(alphabet_test)"
   ]
  },
  {
   "cell_type": "code",
   "execution_count": 27,
   "id": "ee25a107-b593-41c7-93c5-112afd439c29",
   "metadata": {},
   "outputs": [
    {
     "data": {
      "text/plain": [
       "161"
      ]
     },
     "execution_count": 27,
     "metadata": {},
     "output_type": "execute_result"
    }
   ],
   "source": [
    "alphabet = alphabet_test.union(alphabet_train)\n",
    "len(alphabet)"
   ]
  },
  {
   "cell_type": "code",
   "execution_count": 26,
   "id": "958cf550-96bf-4e7c-9b81-319bfe17b80b",
   "metadata": {},
   "outputs": [
    {
     "data": {
      "text/plain": [
       "187"
      ]
     },
     "execution_count": 26,
     "metadata": {},
     "output_type": "execute_result"
    }
   ],
   "source": [
    "int.from_bytes(b'\\xbb', \"big\")"
   ]
  },
  {
   "cell_type": "code",
   "execution_count": null,
   "id": "6b3e5bbe-ac8e-4103-a674-56aeae26530a",
   "metadata": {},
   "outputs": [],
   "source": [
    "train_x = [[int.from_bytes(x, \"big\") for x in train_x[i]] for i in range(0, len(train_x))]"
   ]
  },
  {
   "cell_type": "code",
   "execution_count": null,
   "id": "4a70c0aa-09e8-46d4-a9ad-c116f521a0d4",
   "metadata": {},
   "outputs": [],
   "source": [
    "for i, _ in enumerate(train_x):\n",
    "    train_x[i] = [int.from_bytes(x, \"big\") for x in train_x[i]]\n",
    "    train_y[i] = [int.from_bytes(x, \"big\") for x in train_x[i]]\n",
    "    for j, _ in enumerate(train_x[i]):\n",
    "        "
   ]
  },
  {
   "cell_type": "code",
   "execution_count": 32,
   "id": "7b47cbe7-1e68-439a-a9bc-fa3998df3dd9",
   "metadata": {
    "collapsed": true,
    "jupyter": {
     "outputs_hidden": true
    },
    "tags": []
   },
   "outputs": [
    {
     "data": {
      "text/plain": [
       "array([[0., 1., 0., 0., 0., 0., 0., 0., 0., 0., 0., 0., 0., 0., 0., 0.,\n",
       "        0., 0., 0., 0., 0., 0., 0., 0., 0., 0., 0., 0., 0., 0., 0., 0.,\n",
       "        0., 0., 0., 0., 0., 0., 0., 0., 0., 0., 0., 0., 0., 0., 0., 0.,\n",
       "        0., 0., 0., 0., 0., 0., 0., 0., 0., 0., 0., 0., 0., 0., 0., 0.,\n",
       "        0., 0., 0., 0., 0., 0., 0., 0., 0., 0., 0., 0., 0., 0., 0., 0.,\n",
       "        0., 0., 0., 0., 0., 0., 0., 0., 0., 0., 0., 0., 0., 0., 0., 0.,\n",
       "        0., 0., 0., 0., 0., 0., 0., 0., 0., 0., 0., 0., 0., 0., 0., 0.,\n",
       "        0., 0., 0., 0., 0., 0., 0., 0., 0., 0., 0., 0., 0., 0., 0., 0.,\n",
       "        0., 0., 0., 0., 0., 0., 0., 0., 0., 0., 0., 0., 0., 0., 0., 0.,\n",
       "        0., 0., 0., 0., 0., 0., 0., 0., 0., 0., 0., 0., 0., 0., 0., 0.,\n",
       "        0., 0., 0., 0., 0., 0., 0., 0., 0., 0., 0., 0., 0., 0., 0., 0.,\n",
       "        0., 0., 0., 0., 0., 0., 0., 0., 0., 0., 0., 0., 0., 0., 0., 0.,\n",
       "        0., 0., 0., 0., 0., 0., 0., 0., 0., 0., 0., 0., 0., 0., 0., 0.,\n",
       "        0., 0., 0., 0., 0., 0., 0., 0., 0., 0., 0., 0., 0., 0., 0., 0.,\n",
       "        0., 0., 0., 0., 0., 0., 0., 0., 0., 0., 0., 0., 0., 0., 0., 0.,\n",
       "        0., 0., 0., 0., 0., 0., 0., 0., 0., 0., 0., 0., 0., 0., 0., 0.],\n",
       "       [0., 0., 0., 0., 0., 0., 0., 0., 0., 0., 0., 0., 0., 0., 0., 0.,\n",
       "        0., 0., 0., 0., 0., 0., 0., 0., 0., 0., 0., 0., 0., 0., 0., 0.,\n",
       "        0., 0., 0., 0., 0., 0., 0., 0., 0., 0., 0., 0., 0., 0., 0., 0.,\n",
       "        0., 0., 0., 0., 0., 0., 0., 0., 0., 0., 0., 0., 0., 0., 0., 0.,\n",
       "        0., 0., 0., 0., 0., 0., 0., 0., 0., 0., 0., 0., 0., 0., 0., 0.,\n",
       "        0., 0., 0., 0., 0., 0., 0., 0., 0., 0., 0., 0., 0., 0., 0., 0.,\n",
       "        0., 0., 0., 0., 0., 0., 0., 0., 0., 0., 0., 0., 0., 0., 0., 0.,\n",
       "        0., 0., 0., 0., 0., 0., 0., 0., 0., 0., 0., 1., 0., 0., 0., 0.,\n",
       "        0., 0., 0., 0., 0., 0., 0., 0., 0., 0., 0., 0., 0., 0., 0., 0.,\n",
       "        0., 0., 0., 0., 0., 0., 0., 0., 0., 0., 0., 0., 0., 0., 0., 0.,\n",
       "        0., 0., 0., 0., 0., 0., 0., 0., 0., 0., 0., 0., 0., 0., 0., 0.,\n",
       "        0., 0., 0., 0., 0., 0., 0., 0., 0., 0., 0., 0., 0., 0., 0., 0.,\n",
       "        0., 0., 0., 0., 0., 0., 0., 0., 0., 0., 0., 0., 0., 0., 0., 0.,\n",
       "        0., 0., 0., 0., 0., 0., 0., 0., 0., 0., 0., 0., 0., 0., 0., 0.,\n",
       "        0., 0., 0., 0., 0., 0., 0., 0., 0., 0., 0., 0., 0., 0., 0., 0.,\n",
       "        0., 0., 0., 0., 0., 0., 0., 0., 0., 0., 0., 0., 0., 0., 0., 0.],\n",
       "       [0., 0., 0., 0., 0., 0., 0., 0., 0., 0., 0., 0., 0., 0., 0., 0.,\n",
       "        0., 0., 0., 0., 0., 0., 0., 0., 0., 0., 0., 0., 0., 0., 0., 0.,\n",
       "        0., 0., 0., 0., 0., 0., 0., 0., 0., 0., 0., 0., 0., 0., 0., 0.,\n",
       "        0., 0., 0., 0., 0., 0., 0., 0., 0., 0., 0., 0., 0., 0., 0., 0.,\n",
       "        0., 0., 0., 0., 0., 0., 0., 0., 0., 0., 0., 0., 0., 0., 0., 0.,\n",
       "        0., 0., 0., 0., 0., 0., 0., 0., 0., 0., 0., 0., 0., 0., 0., 0.,\n",
       "        0., 0., 0., 0., 0., 0., 0., 0., 0., 0., 0., 0., 0., 0., 0., 0.,\n",
       "        0., 0., 0., 0., 0., 0., 0., 0., 0., 0., 0., 0., 0., 0., 0., 0.,\n",
       "        0., 0., 0., 0., 0., 0., 0., 0., 0., 0., 0., 0., 0., 0., 0., 0.,\n",
       "        0., 0., 0., 0., 0., 0., 0., 0., 0., 0., 0., 0., 1., 0., 0., 0.,\n",
       "        0., 0., 0., 0., 0., 0., 0., 0., 0., 0., 0., 0., 0., 0., 0., 0.,\n",
       "        0., 0., 0., 0., 0., 0., 0., 0., 0., 0., 0., 0., 0., 0., 0., 0.,\n",
       "        0., 0., 0., 0., 0., 0., 0., 0., 0., 0., 0., 0., 0., 0., 0., 0.,\n",
       "        0., 0., 0., 0., 0., 0., 0., 0., 0., 0., 0., 0., 0., 0., 0., 0.,\n",
       "        0., 0., 0., 0., 0., 0., 0., 0., 0., 0., 0., 0., 0., 0., 0., 0.,\n",
       "        0., 0., 0., 0., 0., 0., 0., 0., 0., 0., 0., 0., 0., 0., 0., 0.]],\n",
       "      dtype=float32)"
      ]
     },
     "execution_count": 32,
     "metadata": {},
     "output_type": "execute_result"
    }
   ],
   "source": [
    "tf.keras.utils.to_categorical([1,123,156], num_classes=256)"
   ]
  },
  {
   "cell_type": "code",
   "execution_count": 20,
   "id": "ff828916-55a2-4a5e-8480-d648c98b3860",
   "metadata": {
    "collapsed": true,
    "jupyter": {
     "outputs_hidden": true
    },
    "tags": []
   },
   "outputs": [
    {
     "data": {
      "text/plain": [
       "{b'\\t',\n",
       " b'\\n',\n",
       " b'\\r',\n",
       " b' ',\n",
       " b'!',\n",
       " b'\"',\n",
       " b'#',\n",
       " b'$',\n",
       " b'%',\n",
       " b'&',\n",
       " b\"'\",\n",
       " b'(',\n",
       " b')',\n",
       " b'*',\n",
       " b'+',\n",
       " b',',\n",
       " b'-',\n",
       " b'.',\n",
       " b'/',\n",
       " b'0',\n",
       " b'1',\n",
       " b'2',\n",
       " b'3',\n",
       " b'4',\n",
       " b'5',\n",
       " b'6',\n",
       " b'7',\n",
       " b'8',\n",
       " b'9',\n",
       " b':',\n",
       " b';',\n",
       " b'<',\n",
       " b'=',\n",
       " b'>',\n",
       " b'?',\n",
       " b'@',\n",
       " b'A',\n",
       " b'B',\n",
       " b'C',\n",
       " b'D',\n",
       " b'E',\n",
       " b'F',\n",
       " b'G',\n",
       " b'H',\n",
       " b'I',\n",
       " b'J',\n",
       " b'K',\n",
       " b'L',\n",
       " b'M',\n",
       " b'N',\n",
       " b'O',\n",
       " b'P',\n",
       " b'Q',\n",
       " b'R',\n",
       " b'S',\n",
       " b'T',\n",
       " b'U',\n",
       " b'V',\n",
       " b'W',\n",
       " b'X',\n",
       " b'Y',\n",
       " b'Z',\n",
       " b'[',\n",
       " b'\\\\',\n",
       " b']',\n",
       " b'^',\n",
       " b'_',\n",
       " b'`',\n",
       " b'a',\n",
       " b'b',\n",
       " b'c',\n",
       " b'd',\n",
       " b'e',\n",
       " b'f',\n",
       " b'g',\n",
       " b'h',\n",
       " b'i',\n",
       " b'j',\n",
       " b'k',\n",
       " b'l',\n",
       " b'm',\n",
       " b'n',\n",
       " b'o',\n",
       " b'p',\n",
       " b'q',\n",
       " b'r',\n",
       " b's',\n",
       " b't',\n",
       " b'u',\n",
       " b'v',\n",
       " b'w',\n",
       " b'x',\n",
       " b'y',\n",
       " b'z',\n",
       " b'{',\n",
       " b'|',\n",
       " b'}',\n",
       " b'~',\n",
       " b'\\x80',\n",
       " b'\\x81',\n",
       " b'\\x82',\n",
       " b'\\x83',\n",
       " b'\\x84',\n",
       " b'\\x86',\n",
       " b'\\x88',\n",
       " b'\\x89',\n",
       " b'\\x8e',\n",
       " b'\\x8f',\n",
       " b'\\x91',\n",
       " b'\\x92',\n",
       " b'\\x93',\n",
       " b'\\x94',\n",
       " b'\\x95',\n",
       " b'\\x97',\n",
       " b'\\x98',\n",
       " b'\\x99',\n",
       " b'\\x9a',\n",
       " b'\\x9c',\n",
       " b'\\x9d',\n",
       " b'\\xa0',\n",
       " b'\\xa1',\n",
       " b'\\xa2',\n",
       " b'\\xa3',\n",
       " b'\\xa4',\n",
       " b'\\xa6',\n",
       " b'\\xa7',\n",
       " b'\\xa8',\n",
       " b'\\xa9',\n",
       " b'\\xaa',\n",
       " b'\\xab',\n",
       " b'\\xae',\n",
       " b'\\xaf',\n",
       " b'\\xb0',\n",
       " b'\\xb1',\n",
       " b'\\xb2',\n",
       " b'\\xb3',\n",
       " b'\\xb4',\n",
       " b'\\xb5',\n",
       " b'\\xb6',\n",
       " b'\\xb7',\n",
       " b'\\xb9',\n",
       " b'\\xbb',\n",
       " b'\\xbc',\n",
       " b'\\xbd',\n",
       " b'\\xbe',\n",
       " b'\\xbf',\n",
       " b'\\xc2',\n",
       " b'\\xc3',\n",
       " b'\\xc5',\n",
       " b'\\xcb',\n",
       " b'\\xce',\n",
       " b'\\xcf',\n",
       " b'\\xd7',\n",
       " b'\\xe1',\n",
       " b'\\xe2',\n",
       " b'\\xef'}"
      ]
     },
     "execution_count": 20,
     "metadata": {},
     "output_type": "execute_result"
    }
   ],
   "source": [
    "alphabet"
   ]
  },
  {
   "cell_type": "code",
   "execution_count": null,
   "id": "e03b2bbb-cb5e-4c73-81ab-91b11a23305e",
   "metadata": {},
   "outputs": [],
   "source": [
    "# Take a look at data\n",
    "for i, _ in enumerate(train_x):\n",
    "    print(f\"{train_x[i]} -> {train_y[i]}\")\n",
    "    if i == 50:\n",
    "        break"
   ]
  },
  {
   "cell_type": "code",
   "execution_count": 28,
   "id": "b67cec4c-7c3c-40fe-bcc5-3146a4fdb55e",
   "metadata": {},
   "outputs": [],
   "source": [
    "# Preprocess data, Vectorize characters using one hot encoding\n",
    "train_x = np.array([string_vectorizer(x, alphabet) for x in train_x])\n",
    "train_y = np.array([string_vectorizer(x, alphabet) for x in train_y])"
   ]
  },
  {
   "cell_type": "code",
   "execution_count": 29,
   "id": "117b1566-15e5-42f4-845f-c3afbdab03a8",
   "metadata": {},
   "outputs": [],
   "source": []
  },
  {
   "cell_type": "code",
   "execution_count": 30,
   "id": "14cd07ac-505c-4f15-8070-ae377b7f6fbb",
   "metadata": {},
   "outputs": [],
   "source": [
    "train_y = train_y.reshape((train_y.shape[0], len(alphabet)))\n",
    "val_y = val_y.reshape((val_y.shape[0], len(alphabet)))"
   ]
  },
  {
   "cell_type": "code",
   "execution_count": 31,
   "id": "f9fd859f-0f1f-4810-a902-b5818db16ef1",
   "metadata": {},
   "outputs": [],
   "source": [
    "train_x = train_x.reshape((train_x.shape[0], len(alphabet) * 3))\n",
    "val_x = val_x.reshape((val_x.shape[0], len(alphabet) * 3))"
   ]
  },
  {
   "cell_type": "code",
   "execution_count": 32,
   "id": "aa5a1bca-591c-4cb6-9387-5571e179456b",
   "metadata": {},
   "outputs": [
    {
     "name": "stdout",
     "output_type": "stream",
     "text": [
      "Train set size (X, y): (210756, 498), (210756, 166)\n",
      "Validation set size (X, y): (52690, 498), (52690, 166)\n"
     ]
    }
   ],
   "source": [
    "# Size of train and validation datasets\n",
    "print(f\"Train set size (X, y): {train_x.shape}, {train_y.shape}\")\n",
    "print(f\"Validation set size (X, y): {val_x.shape}, {val_y.shape}\")"
   ]
  },
  {
   "cell_type": "markdown",
   "id": "1922b4d0-a2a4-4ad6-96e5-1f17013ed542",
   "metadata": {},
   "source": [
    "## Dense ANN\n"
   ]
  },
  {
   "cell_type": "code",
   "execution_count": 53,
   "id": "13dcf675-b933-4b3a-aa9e-5ab31ba35f45",
   "metadata": {},
   "outputs": [],
   "source": [
    "# Input shape\n",
    "inputShape = (3, 256)"
   ]
  },
  {
   "cell_type": "code",
   "execution_count": 64,
   "id": "dfe65482-9663-4845-9244-eed0b24fecda",
   "metadata": {},
   "outputs": [],
   "source": [
    "# Create model of dense ANN\n",
    "input_layer = tf.keras.Input(shape=inputShape)\n",
    "\n",
    "flatten_layer1 = tf.keras.layers.Flatten()(input_layer)\n",
    "\n",
    "dense_layer1 = tf.keras.layers.Dense(512, activation=\"relu\")(flatten_layer1)\n",
    "dense_layer1 = tf.keras.layers.Dropout(0.2)(dense_layer1)\n",
    "\n",
    "dense_layer2 = tf.keras.layers.Dense(128, activation=\"relu\")(dense_layer1)\n",
    "dense_layer2 = tf.keras.layers.Dropout(0.2)(dense_layer2)\n",
    "\n",
    "output_layer = tf.keras.layers.Dense(256, activation=\"softmax\",)(dense_layer2)\n",
    "output_layer = tf.keras.layers.Reshape((1, 256))(output_layer)\n",
    "\n",
    "# Create model\n",
    "dense_model = tf.keras.Model(input_layer, output_layer)\n"
   ]
  },
  {
   "cell_type": "code",
   "execution_count": 65,
   "id": "08710960-0c79-42ef-839d-96b72244cba8",
   "metadata": {},
   "outputs": [
    {
     "name": "stdout",
     "output_type": "stream",
     "text": [
      "Model: \"model_4\"\n",
      "_________________________________________________________________\n",
      " Layer (type)                Output Shape              Param #   \n",
      "=================================================================\n",
      " input_5 (InputLayer)        [(None, 3, 256)]          0         \n",
      "                                                                 \n",
      " flatten_4 (Flatten)         (None, 768)               0         \n",
      "                                                                 \n",
      " dense_8 (Dense)             (None, 512)               393728    \n",
      "                                                                 \n",
      " dropout (Dropout)           (None, 512)               0         \n",
      "                                                                 \n",
      " dense_9 (Dense)             (None, 128)               65664     \n",
      "                                                                 \n",
      " dropout_1 (Dropout)         (None, 128)               0         \n",
      "                                                                 \n",
      " dense_10 (Dense)            (None, 256)               33024     \n",
      "                                                                 \n",
      " reshape_2 (Reshape)         (None, 1, 256)            0         \n",
      "                                                                 \n",
      "=================================================================\n",
      "Total params: 492,416\n",
      "Trainable params: 492,416\n",
      "Non-trainable params: 0\n",
      "_________________________________________________________________\n"
     ]
    }
   ],
   "source": [
    "# Compile model\n",
    "# Optimizer - RMSprop\n",
    "# Loss - Binary Crossentropy\n",
    "# Metric - Binary Accuracy\n",
    "dense_model.compile(optimizer=tf.keras.optimizers.Adam(),\n",
    "                    loss=tf.keras.losses.CategoricalCrossentropy(from_logits=False),\n",
    "                    metrics=[tf.keras.metrics.CategoricalAccuracy()])\n",
    "\n",
    "dense_model.summary()"
   ]
  },
  {
   "cell_type": "code",
   "execution_count": 67,
   "id": "650e1358-570b-41e7-a4ee-3bfc86c9ac0c",
   "metadata": {},
   "outputs": [
    {
     "name": "stdout",
     "output_type": "stream",
     "text": [
      "Epoch 1/10\n",
      "138544/138544 [==============================] - 1071s 8ms/step - loss: 1.7861 - categorical_accuracy: 0.4707 - val_loss: 1.6839 - val_categorical_accuracy: 0.4884\n",
      "Epoch 2/10\n",
      "138544/138544 [==============================] - 1067s 8ms/step - loss: 1.7435 - categorical_accuracy: 0.4786 - val_loss: 1.6748 - val_categorical_accuracy: 0.4904\n",
      "Epoch 3/10\n",
      "138544/138544 [==============================] - 1078s 8ms/step - loss: 1.7391 - categorical_accuracy: 0.4796 - val_loss: 1.6728 - val_categorical_accuracy: 0.4889\n",
      "Epoch 4/10\n",
      "138544/138544 [==============================] - 1083s 8ms/step - loss: 1.7385 - categorical_accuracy: 0.4799 - val_loss: 1.6710 - val_categorical_accuracy: 0.4912\n",
      "Epoch 5/10\n",
      "138544/138544 [==============================] - 1081s 8ms/step - loss: 1.7391 - categorical_accuracy: 0.4800 - val_loss: 1.6725 - val_categorical_accuracy: 0.4910\n",
      "Epoch 6/10\n",
      "138544/138544 [==============================] - 1090s 8ms/step - loss: 1.7401 - categorical_accuracy: 0.4799 - val_loss: 1.6718 - val_categorical_accuracy: 0.4910\n",
      "Epoch 7/10\n",
      "138544/138544 [==============================] - 1088s 8ms/step - loss: 1.7413 - categorical_accuracy: 0.4798 - val_loss: 1.6732 - val_categorical_accuracy: 0.4905\n",
      "Epoch 8/10\n",
      "138544/138544 [==============================] - 1078s 8ms/step - loss: 1.7424 - categorical_accuracy: 0.4796 - val_loss: 1.6721 - val_categorical_accuracy: 0.4913\n",
      "Epoch 9/10\n",
      "138544/138544 [==============================] - 1087s 8ms/step - loss: 1.7440 - categorical_accuracy: 0.4795 - val_loss: 1.6740 - val_categorical_accuracy: 0.4900\n",
      "Epoch 10/10\n",
      "138544/138544 [==============================] - 1090s 8ms/step - loss: 1.7452 - categorical_accuracy: 0.4794 - val_loss: 1.6753 - val_categorical_accuracy: 0.4907\n"
     ]
    }
   ],
   "source": [
    "# Create checkpoint for storing only best results\n",
    "model_checkpoint_callback = tf.keras.callbacks.ModelCheckpoint(\n",
    "    filepath='weights_dense_model.best.hdf5',\n",
    "    save_weights_only=True,\n",
    "    monitor='val_loss',\n",
    "    mode='auto',\n",
    "    save_best_only=True)\n",
    "\n",
    "batch_size = 128\n",
    "epochs = 10\n",
    "\n",
    "train_gen = DataGenerator(train_x, train_y, batch_size)\n",
    "val_gen = DataGenerator(val_x, val_y, batch_size)\n",
    "\n",
    "\n",
    "# Fit model.\n",
    "history_dense_model = dense_model.fit(train_gen, validation_data=val_gen, epochs=epochs)"
   ]
  },
  {
   "cell_type": "code",
   "execution_count": 68,
   "id": "67272619-936b-4aae-bf61-db03d45af1d3",
   "metadata": {
    "tags": []
   },
   "outputs": [
    {
     "data": {
      "image/png": "[encoded data removed]",
      "text/plain": [
       "<Figure size 432x288 with 1 Axes>"
      ]
     },
     "metadata": {
      "needs_background": "light"
     },
     "output_type": "display_data"
    }
   ],
   "source": [
    "show_history(history_dense_model)"
   ]
  },
  {
   "cell_type": "code",
   "execution_count": 70,
   "id": "4c3ae45e-3cba-4642-b9fc-ad3b268a1458",
   "metadata": {},
   "outputs": [],
   "source": [
    "# Save trained weights and biases.\n",
    "dense_model.save('models/model_dense')"
   ]
  },
  {
   "cell_type": "markdown",
   "id": "fe9b4924-8030-4e7c-99e5-2a26556a4bec",
   "metadata": {},
   "source": [
    "## Recurrent ANN"
   ]
  },
  {
   "cell_type": "code",
   "execution_count": 73,
   "id": "decec534-5a6c-4bb2-92e1-a382d1f53414",
   "metadata": {},
   "outputs": [],
   "source": [
    "# Create model of recurent ANN\n",
    "input_layer = tf.keras.Input(shape=inputShape)\n",
    "\n",
    "lstm_layer1 = tf.keras.layers.LSTM(64, activation=\"relu\", return_sequences=True)(input_layer)\n",
    "\n",
    "gru_layer1 = tf.keras.layers.GRU(64, activation=\"relu\", return_sequences=True)(lstm_layer1)\n",
    "\n",
    "flatten_layer1 = tf.keras.layers.Flatten()(gru_layer1)\n",
    "\n",
    "dense_layer1 = tf.keras.layers.Dense(512, activation=\"relu\")(flatten_layer1)\n",
    "\n",
    "dense_layer2 = tf.keras.layers.Dense(256, activation=\"relu\")(dense_layer1)\n",
    "dense_layer2 = tf.keras.layers.Dropout(0.3)(dense_layer2)\n",
    "\n",
    "output_layer = tf.keras.layers.Dense(256, activation=\"softmax\",)(dense_layer2)\n",
    "output_layer = tf.keras.layers.Reshape((1, 256))(output_layer)\n",
    "\n",
    "# Create model\n",
    "recurrent_model = tf.keras.Model(input_layer, output_layer)\n"
   ]
  },
  {
   "cell_type": "code",
   "execution_count": 74,
   "id": "de0d1bd9-4b62-4379-aeed-b1bd21066225",
   "metadata": {},
   "outputs": [
    {
     "name": "stdout",
     "output_type": "stream",
     "text": [
      "Model: \"model_6\"\n",
      "_________________________________________________________________\n",
      " Layer (type)                Output Shape              Param #   \n",
      "=================================================================\n",
      " input_7 (InputLayer)        [(None, 3, 256)]          0         \n",
      "                                                                 \n",
      " lstm_1 (LSTM)               (None, 3, 64)             82176     \n",
      "                                                                 \n",
      " gru_1 (GRU)                 (None, 3, 64)             24960     \n",
      "                                                                 \n",
      " flatten_6 (Flatten)         (None, 192)               0         \n",
      "                                                                 \n",
      " dense_14 (Dense)            (None, 512)               98816     \n",
      "                                                                 \n",
      " dense_15 (Dense)            (None, 256)               131328    \n",
      "                                                                 \n",
      " dropout_3 (Dropout)         (None, 256)               0         \n",
      "                                                                 \n",
      " dense_16 (Dense)            (None, 256)               65792     \n",
      "                                                                 \n",
      " reshape_4 (Reshape)         (None, 1, 256)            0         \n",
      "                                                                 \n",
      "=================================================================\n",
      "Total params: 403,072\n",
      "Trainable params: 403,072\n",
      "Non-trainable params: 0\n",
      "_________________________________________________________________\n"
     ]
    }
   ],
   "source": [
    "# Compile model\n",
    "# Optimizer - RMSprop\n",
    "# Loss - Binary Crossentropy\n",
    "# Metric - Binary Accuracy\n",
    "recurrent_model.compile(optimizer=tf.keras.optimizers.RMSprop(),\n",
    "                        loss=tf.keras.losses.CategoricalCrossentropy(from_logits=False),\n",
    "                        metrics=[tf.keras.metrics.CategoricalAccuracy()])\n",
    "\n",
    "recurrent_model.summary()"
   ]
  },
  {
   "cell_type": "code",
   "execution_count": null,
   "id": "cc0eec6a-aae8-4937-9544-2a5b9a72016b",
   "metadata": {},
   "outputs": [
    {
     "name": "stdout",
     "output_type": "stream",
     "text": [
      "Epoch 1/10\n",
      "17318/17318 [==============================] - 964s 56ms/step - loss: 1.8066 - categorical_accuracy: 0.4697 - val_loss: 1.7239 - val_categorical_accuracy: 0.4861\n",
      "Epoch 2/10\n",
      "17318/17318 [==============================] - 1101s 64ms/step - loss: 1.8023 - categorical_accuracy: 0.4725 - val_loss: 1.7616 - val_categorical_accuracy: 0.4760\n",
      "Epoch 3/10\n",
      "17318/17318 [==============================] - 1103s 64ms/step - loss: 1.8680 - categorical_accuracy: 0.4606 - val_loss: 1.8465 - val_categorical_accuracy: 0.4703\n",
      "Epoch 4/10\n",
      "17318/17318 [==============================] - 989s 57ms/step - loss: 1.9218 - categorical_accuracy: 0.4516 - val_loss: 1.8682 - val_categorical_accuracy: 0.4594\n",
      "Epoch 5/10\n",
      "17318/17318 [==============================] - 1008s 58ms/step - loss: 1.9845 - categorical_accuracy: 0.4408 - val_loss: 1.9245 - val_categorical_accuracy: 0.4521\n",
      "Epoch 6/10\n",
      "  760/17318 [>.............................] - ETA: 12:45 - loss: 2.0212 - categorical_accuracy: 0.4347"
     ]
    }
   ],
   "source": [
    "# Create checkpoint for storing only best results\n",
    "model_checkpoint_callback = tf.keras.callbacks.ModelCheckpoint(\n",
    "    filepath='weights_recurrent_model.best.hdf5',\n",
    "    save_weights_only=True,\n",
    "    monitor='val_loss',\n",
    "    mode='auto',\n",
    "    save_best_only=True)\n",
    "\n",
    "batch_size = 1024\n",
    "epochs = 10\n",
    "\n",
    "train_gen = DataGenerator(train_x, train_y, batch_size)\n",
    "val_gen = DataGenerator(val_x, val_y, batch_size)\n",
    "\n",
    "\n",
    "# Fit model.\n",
    "history_recurrent_model = recurrent_model.fit(train_gen, validation_data=val_gen, epochs=epochs)"
   ]
  },
  {
   "cell_type": "code",
   "execution_count": null,
   "id": "2e2e2303-0233-4527-a3b8-b5a49d65b45d",
   "metadata": {},
   "outputs": [],
   "source": [
    "show_history(history_recurrent_model)"
   ]
  },
  {
   "cell_type": "code",
   "execution_count": null,
   "id": "edad64bd-d20b-4898-bf43-4929d5d333ba",
   "metadata": {},
   "outputs": [],
   "source": [
    "# Save trained weights and biases.\n",
    "recurrent_model.save('models/model_recurrent')"
   ]
  }
 ],
 "metadata": {
  "kernelspec": {
   "display_name": "Python 3",
   "language": "python",
   "name": "python3"
  },
  "language_info": {
   "codemirror_mode": {
    "name": "ipython",
    "version": 3
   },
   "file_extension": ".py",
   "mimetype": "text/x-python",
   "name": "python",
   "nbconvert_exporter": "python",
   "pygments_lexer": "ipython3",
   "version": "3.9.16"
  }
 },
 "nbformat": 4,
 "nbformat_minor": 5
}
